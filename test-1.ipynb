{
 "cells": [
  {
   "cell_type": "markdown",
   "metadata": {},
   "source": [
    "### test-1.ipynb for testing Binder\n",
    "\n",
    "The github account *irsbugs* has the folder *notebook*. This is the URL to link to it: https://github.com/irsbugs/notebook/\n",
    "\n",
    "Off this github folder are ipynb files.\n",
    "\n",
    "By going to the Binder web-site: https://gke.mybinder.org/\n",
    "and entering in the URL field: https://github.com/irsbugs/notebook/\n",
    "then Binder provides the link: https://mybinder.org/v2/gh/irsbugs/notebook/master\n",
    "\n",
    "Anyone can use this Binder link to launch a jupyter session at Binder which will then list the ipynb files in my github account notebook folder that may be selected and launched. \n",
    "\n",
    "Binder also provided a script that can be added to the README.md file for my github notebook folder as follows:\n",
    "\n",
    "`[![Binder](https://mybinder.org/badge_logo.svg)](https://mybinder.org/v2/gh/irsbugs/notebook/master)`\n",
    "\n",
    "which produces the following icon:\n",
    "\n",
    "[![Binder](https://mybinder.org/badge_logo.svg)](https://mybinder.org/v2/gh/irsbugs/notebook/master)\n"
   ]
  },
  {
   "cell_type": "code",
   "execution_count": 24,
   "metadata": {
    "scrolled": true
   },
   "outputs": [
    {
     "name": "stdout",
     "output_type": "stream",
     "text": [
      "Testing Binder\n",
      "Binder provides the link: https://mybinder.org/v2/gh/irsbugs/notebook/master\n",
      "Original files are on: /home/ian/notebook/python3/test-1.ipynb\n",
      "\n",
      "Running Python version:\n",
      " 3.7.3 (default, Mar 27 2019, 22:11:17) \n",
      "[GCC 7.3.0]\n",
      "\n",
      "os.getcwd(): /home/ian/notebook/python3\n",
      "\n",
      "sys.path[0]: /home/ian/notebook/python3\n",
      "\n",
      "sys.argv[0]: /home/ian/anaconda3/lib/python3.7/site-packages/ipykernel_launcher.py\n",
      "\n",
      "os.uname(): uname_result(system='Linux', node='X200', release='4.18.0-25-generic', version='#26~18.04.1-Ubuntu SMP Thu Jun 27 07:28:31 UTC 2019', machine='x86_64', processor='x86_64')\n"
     ]
    }
   ],
   "source": [
    "import sys\n",
    "import os\n",
    "import platform\n",
    "#import psutil #<-- Fails to import on Binder\n",
    "print(\"Testing Binder\")\n",
    "print(\"Binder provides the link: https://mybinder.org/v2/gh/irsbugs/notebook/master\")\n",
    "print(\"Original files are on: /home/ian/notebook/python3/test-1.ipynb\")\n",
    "print(\"\\nRunning Python version:\\n\", sys.version)\n",
    "print(\"\\nos.getcwd():\", os.getcwd())\n",
    "print(\"\\nsys.path[0]:\", sys.path[0])\n",
    "print(\"\\nsys.argv[0]:\", sys.argv[0])\n",
    "print(\"\\nos.uname():\", platform.uname())\n",
    "#print(\"\\npsutil.virtual_memory():\", psutil.virtual_memory())"
   ]
  },
  {
   "cell_type": "code",
   "execution_count": null,
   "metadata": {},
   "outputs": [],
   "source": []
  }
 ],
 "metadata": {
  "kernelspec": {
   "display_name": "Python 3",
   "language": "python",
   "name": "python3"
  },
  "language_info": {
   "codemirror_mode": {
    "name": "ipython",
    "version": 3
   },
   "file_extension": ".py",
   "mimetype": "text/x-python",
   "name": "python",
   "nbconvert_exporter": "python",
   "pygments_lexer": "ipython3",
   "version": "3.7.3"
  }
 },
 "nbformat": 4,
 "nbformat_minor": 2
}
