{
 "cells": [
  {
   "cell_type": "markdown",
   "metadata": {},
   "source": [
    "### test-1.ipynb for testing Binder\n",
    "\n",
    "My github account *irsbugs* has the folder *notebook*. This is the URL to link to it: https://github.com/irsbugs/notebook/\n",
    "\n",
    "Off this github folder are ipynb files.\n",
    "\n",
    "By going to the Binder web-site: https://gke.mybinder.org/\n",
    "and entering in the URL field: https://github.com/irsbugs/notebook/\n",
    "then Binder provides the link: https://mybinder.org/v2/gh/irsbugs/notebook/master\n",
    "\n",
    "Anyone can use this Binder link to launch a jupyter session at Binder which will then list the ipynb files in my github account notebook folder that may be selected and launched. \n",
    "\n",
    "Binder also provided a script that can be added to the README.md file for my github notebook folder as follows:\n",
    "\n",    
    "`[![Binder](https://mybinder.org/badge_logo.svg)](https://mybinder.org/v2/gh/irsbugs/notebook/master)`\n",
    "\n",
    "which produces the following icon:\n",
    "\n",
    "[![Binder](https://mybinder.org/badge_logo.svg)](https://mybinder.org/v2/gh/irsbugs/notebook/master)\n" 
   ]
  },
  {
   "cell_type": "code",
   "execution_count": null,
   "metadata": {},
   "outputs": [],
   "source": [
    "import sys\n",
    "print(\"Testing Binder\")\n",
    "print(\"Binder provides the link: https://mybinder.org/v2/gh/irsbugs/notebook/master\")\n",
    "print(\"Original files are on: /home/ian/notebook/python3/test-1.ipynb\")\n",
    "print(\"\\nRunning Python version:\\n\", sys.version)"
   ]
  }
 ],
 "metadata": {
  "kernelspec": {
   "display_name": "Python 3",
   "language": "python",
   "name": "python3"
  },
  "language_info": {
   "codemirror_mode": {
    "name": "ipython",
    "version": 3
   },
   "file_extension": ".py",
   "mimetype": "text/x-python",
   "name": "python",
   "nbconvert_exporter": "python",
   "pygments_lexer": "ipython3",
   "version": "3.7.3"
  }
 },
 "nbformat": 4,
 "nbformat_minor": 2
}
